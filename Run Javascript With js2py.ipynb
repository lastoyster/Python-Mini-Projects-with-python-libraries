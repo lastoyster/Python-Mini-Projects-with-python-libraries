{
  "nbformat": 4,
  "nbformat_minor": 0,
  "metadata": {
    "colab": {
      "name": "Untitled26.ipynb",
      "provenance": [],
      "toc_visible": true
    },
    "kernelspec": {
      "name": "python3",
      "display_name": "Python 3"
    },
    "language_info": {
      "name": "python"
    }
  },
  "cells": [
    {
      "cell_type": "code",
      "execution_count": null,
      "metadata": {
        "id": "0Dj7LFCyhkDy"
      },
      "outputs": [],
      "source": [
        "!pip install Js2Py\n",
        "import  js2py\n",
        "\n",
        "js1 ='console.log(\"Hello World!\")'\n",
        "\n",
        "res1 = js2py.eval_js(js1)\n",
        "res1\n",
        "\n",
        "a = int(input('Enter a num: '))\n",
        "js2 = ''' function multiplication(a,b){ \n",
        "  return a * b;\n",
        "}'''\n",
        "\n",
        "res2 = js2py.eval_js(js2)\n",
        "\n",
        "print(res2(a,3))"
      ]
    }
  ]
}