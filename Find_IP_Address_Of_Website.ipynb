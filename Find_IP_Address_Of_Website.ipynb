{
  "nbformat": 4,
  "nbformat_minor": 0,
  "metadata": {
    "colab": {
      "name": "Find IP Address Of Website.ipynb",
      "provenance": []
    },
    "kernelspec": {
      "name": "python3",
      "display_name": "Python 3"
    },
    "language_info": {
      "name": "python"
    }
  },
  "cells": [
    {
      "cell_type": "code",
      "execution_count": 5,
      "metadata": {
        "colab": {
          "base_uri": "https://localhost:8080/"
        },
        "id": "nyfVnFGSIcMw",
        "outputId": "789393f3-ffd6-4c2b-f6dd-51a124fcb988"
      },
      "outputs": [
        {
          "output_type": "stream",
          "name": "stdout",
          "text": [
            "Your Hostname is: 80454c0dc486\n",
            "Your IP address is: 80454c0dc486\n",
            "Your IP Address is: 172.28.0.2\n",
            "The IP Address of traversymedia.com is: 173.247.244.135\n"
          ]
        }
      ],
      "source": [
        "import socket as s\n",
        "\n",
        "#get my hostname\n",
        "my_hostname = s.gethostname()\n",
        "#display my hostname\n",
        "print('Your Hostname is: '+ my_hostname)\n",
        "\n",
        "#get my IP\n",
        "my_ip = s.gethostbyname(my_hostname)\n",
        "#display my IP\n",
        "print('Your IP address is: '+ my_hostname)\n",
        "\n",
        "#get my IP\n",
        "my_ip = s.gethostbyname(my_hostname)\n",
        "print('Your IP Address is: '+ my_ip)\n",
        "\n",
        "#set the hostname\n",
        "host = 'traversymedia.com'\n",
        "#fetch the IP\n",
        "ip = s.gethostbyname(host)\n",
        "\n",
        "#display the IP\n",
        "print('The IP Address of '+ host +' is: '+ip)"
      ]
    }
  ]
}